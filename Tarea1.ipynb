{
 "cells": [
  {
   "cell_type": "markdown",
   "metadata": {},
   "source": [
    "<img style=\"float: left; margin: 30px 15px 15px 15px;\" src=\"https://encrypted-tbn0.gstatic.com/images?q=tbn:ANd9GcTFzQj91sOlkeDFkg5HDbjtR4QJYmLXkfMNig&usqp=CAU\" width=\"400\" height=\"500\" /> \n",
    "    \n",
    "    \n",
    "### <font color='navy'> Modelos no lineales para pronósticos. \n",
    "\n",
    "**Nombres:** 1. Sergio Daniel Dueñas Godinez y 2. Héctor César Ornelas León.\n",
    "\n",
    "**Fecha:** 29 de enero del 2024.\n",
    "\n",
    "**Expediente** : 1. 739300 y 2. 738146\n",
    "    \n",
    "**Profesor:** Oscar David Jaramillo Zuluaga.\n",
    "    \n",
    "**Link Github**: https://github.com/SergioDuenass/ProyectoConjunto_SDDuenas_HCORNELAS\n",
    "\n",
    "# Tarea 1: Clase 2"
   ]
  },
  {
   "cell_type": "markdown",
   "metadata": {},
   "source": [
    "## Enunciado de tarea (Transcibirlo)\n",
    "> \n",
    "# Tarea 1- git\n",
    "### Fecha de entrega: Martes 30 de enero.\n",
    "### Recuerden que en canvas se encuntra el archivo Plantilla tareas, en donde deben de solucionar todas sus tareas.\n",
    "\n",
    "Este archivo contiene las pautas necesarias para crear el archivo conjunto en Github, usando los notebooks de Jupyter:\n",
    "\n",
    "1.  El archivo debe realizarse en parejas y sólo uno de los dos debe crear en su cuenta de *Github* un repositorio con el nombre **ProyectoConjunto\\_APELLIDO1\\_APELLIDO2**. A la persona que creó el repositorio la llamaremos (ESTUDIANTE 1 ). El APELLIDO se debe de escribir (Iniciales del nombre y primer apellido), por ejemplo si yo creara el archivo lo debería de nombrar *ProyectoConjunto\\_ODJaramillo*. \n",
    "1.  Posteriormente, desde la cuenta del (ESTUDIANTE 2), 'aquel que no creó el repositorio anterior', ingresar al perfil del ESTUDIANTE 1 y en el repositorio creado en el paso 1, realizar un \"fork\" de este repositorio en su perfil, y además realizar los pasos en Gitkraken para hacer dicho repositorio \"Remoto (REMOTE)\" VER DICHO PROCEDIMIENTO EN LA CLASE **Clase2_GitTurorial2**.\n",
    "1.  Luego de realizados los pasos 1 y 2, el ESTUDIANTE 1 y ESTUDIANTE 2, desde su computador realizar un *clone* del repositorio creado en el numeral 1 en la carpeta que cada quién haya asignado para el curso en su computador. \n",
    "1.  Luego desde Jupyter el ESTUDIANTE 1, crea un nuevo ``notebook`` en el repositorio del paso 3. \n",
    "1.  En este nuevo notebook el ESTUDIANTE 1 y ESTUDIANTE 2, deben realizar una presentación describiendo sus expectativas del curso y la transcipción de la Figura 1 y Figura 2 respectivamente, haciendo uso de la sintaxis Markdown. Recuerden definir unas celdas donde cada usuario modificará el cuaderno de python para evitar futuros conflictos. \n",
    "\n",
    "**RECOMENDACIÓN:ANTES DE EMPEZAR A REALIZAR MUCHAS MODIFICACIONES DEL NOTEBOOK PRIMERO REALICEN CAMBIOS PEQUEÑOS EN EL ARCHIVO EN CONJUNTO Y VERIFIQUEN SI TANTO EL ``ESTUDIANTE 1`` COMO EL ``ESTUDIANTE 2``  RECIBEN LAS ACTUALIZACIONES QUE REALIZAN CADA UNO EN EL PROYECTO PARA VERIFICAR QUE EL REMOTE ESTUVO BIEN CONFIGURADO.**\n",
    ">Les recomiendo ver los siguientes enlaces para ver distintas funciones para escribir en markdown.\n",
    ">    - [Creador de tablas online](https://www.tablesgenerator.com/markdown_tables)\n",
    ">    - [Sintáxis markdown](https://joplinapp.org/markdown/)\n",
    "\n",
    "6. Cuando ya se encuentre el proyecto conjunto con la información del ESTUDIANTE 1 y ESTUDIANTE 2, el ``ESTUDIANTE 2``  debe de realizar un `pull request` con las modificaciones realizadas a el `ESTUDIANTE 1` para que este realice un merge a la rama `master`, con las moficaciones propuestas por el `ESTUDIANTE 2`, TAL Y CÓMO SE REALIZÓ EN CLASE. (Recuerden que los pull request se generan en *Gitkraken* y se administran los comentarios o cambios propuestos por su compañero desde *Github* ver `Clase1_GitTurorial` para aclaración de dudas, donde se explica cómo crear *branch y pull request*)"
   ]
  },
  {
   "cell_type": "markdown",
   "metadata": {},
   "source": [
    "### Ejercicio 1: Expectativas del curso y la transcipción de la Figura 1 y Figura 2 respectivamente, haciendo uso de la sintaxis Markdown. Recuerden definir unas celdas donde cada usuario modificará el cuaderno de python para evitar futuros conflictos. "
   ]
  },
  {
   "cell_type": "markdown",
   "metadata": {},
   "source": [
    "#### Expectativas del curso"
   ]
  },
  {
   "cell_type": "markdown",
   "metadata": {},
   "source": [
    "#### Estudiante 1: Sergio Daniel Dueñas Godinez\n",
    "\n",
    "Mis expectativas para este curso inicialmente será el aprender a trabajar de manera colaborativa correctamente utilzizando las herramientas adecuadas, ya que antes las usabamos pero ahora me doy cuenta que no las usabamos de la manera correcta. Además de aprenderme lo que dice el propósito general: Modelar y pronosticar series de tiempo con interacciones entre variables regresoras, periodicidades y comportamientos no estacionario, para esto poder utilizarlo en un ambiente real, y ver su utilidad en el ambito profesional."
   ]
  },
  {
   "cell_type": "markdown",
   "metadata": {},
   "source": [
    "#### Estudiante 2: Hector Cesar Ornelas Leon\n",
    "Espero de este curso poder aumentar los conocimientos de modelos no lineales, así como aprender a manejar de correcta manera las herramientas para trabajo colaborativo, además de tener la experiencia de trabajar con distintos compañeros que puedan aportarme. También, me gustaría poder crear proyectos de valor, me refiero a que tengan un uso importante y sirvan para portafolio en un futuro."
   ]
  },
  {
   "cell_type": "markdown",
   "metadata": {},
   "source": [
    "### Transcripciones figura 1\n",
    "\n",
    "$$\\text{Figura 1. Figura que debe transcribir en markdown el `ESTUDIANTE 1`}$$. DEBE SER IGUAL CON COLORES Y FORMATO."
   ]
  },
  {
   "cell_type": "markdown",
   "metadata": {},
   "source": [
    "\\[\n",
    "\\begin{array}{|c|c|c|}\n",
    "\\hline \\hline \\text{i} & x & f(x) \\\\\n",
    "\\hline \n",
    "0 & -1 & 0.3678 \\\\\n",
    "\\color{red} 1 & \\color{red}-\\color{red}0\\color{red}.\\color{red}5 & \\color{red}0\\color{red}.\\color{red}7\\color{red}7\\color{red}8\\color{red}8 \\\\\n",
    "\\color{blue} 2 & \\color{blue}0 & \\color{blue}1 \\\\\n",
    "\\color{red} 3 & \\color{red}0\\color{red}.\\color{red}5 & \\color{red}0\\color{red}.\\color{red}7\\color{red}7\\color{red}8\\color{red}8 \\\\\n",
    "4 & 1 & 0.3678 \\\\\n",
    "\\hline\n",
    "\\end{array}\n",
    "\\]\n",
    "\n",
    "<p style=\"text-align: center;\"> Cuadro 1: Tabla de valores de \\(f(x)\\) </p>\n",
    "\n",
    "\\begin{aligned}\n",
    "\\int_{-1}^1 e^{-x^2} \\,dx & \\approx \\frac{0.5}{3}\\left[\\mathit{f(-1)} + \\mathit{f(1)} + 4 \\left(\\color{red}{\\mathit{f(-0.5)} + \\mathit{f(0.5)}}\\right) + 2 \\color{blue}{\\mathit{f(0)}}\\right] \\\\\n",
    "& \\approx \\frac{0.5}{3}[0.3678 + 0.3678 + 4(\\color{red}{0.7788 + 0.7788}) + 2\\cdot\\color{blue}{1}] \\approx 1.4943\n",
    "\\end{aligned}\n",
    "\n",
    "A modo de verificación, se calculará por software, el valor del área para  $\\mathit {n=100}$, un valor mucho más elevado al que se utilizó anteriormente. Si lo calculado previamente es correcto, se esperaría que sea próximo al valor presentado a continuación para ser una buena aproximación.\n",
    "\n",
    "\\begin{aligned}\n",
    "\\int_{-1}^1 e^{-x^2} dx \\approx 1.4936\n",
    "\\end{aligned}\n"
   ]
  },
  {
   "cell_type": "markdown",
   "metadata": {},
   "source": [
    "### Transcripciones figura 2\n",
    "\n",
    "$$\\text{Figura 1. Figura que debe transcribir en markdown el `ESTUDIANTE 2`.}$$  DEBE SER IGUAL CON COLORES Y FORMATO"
   ]
  },
  {
   "cell_type": "markdown",
   "metadata": {},
   "source": [
    "$$\n",
    "\\begin{array}{|l|l|l|l|l|l|l|l|}\n",
    "\\hline\n",
    "i     & 1   & 2   & 3   & 4   & 5 & 6 & 7  \\\\ \\hline\n",
    "E_i(V) & 12  & 10  & 24  & 12  & - & - & -  \\\\ \\hline\n",
    "r_i(\\Omega) & 0.1 & 0.5 & 0.2 & 0.5 & - & - & -  \\\\ \\hline\n",
    "R_i(\\Omega) & 25  & 40  & 16  & 20  & 9 & 4 & 20 \\\\ \\hline\n",
    "\\end{array}\n",
    "$$\n",
    "\n",
    "\n",
    "\n",
    "<font  color=\"blue\"> &nbsp; Kemma y Vorst (1990)</font> muestran que las opciones asiáticas con media geométrica continua se pueden evaluar con el mismo enfoque de las opciones plain vanilla; solo se deben cambiar los parámetros de volatilidad $\\sigma$ por $\\sigma_{a}$, y el costo de acarreo $b$ por $b_{A}$.\n",
    "\n",
    "&nbsp; De acuerdo con Kemma y Vorst, las fórmulas para valuar una opción de compra y una opción de venta son:\n",
    "\n",
    "\\begin{align}\n",
    "c &\\approx S_{t}e^{(b_{A}-r)(T-t)}\\Phi(d_{i}) - Ke^{-r(T-t)}\\Phi (d_{2}), \\\\\n",
    "p &\\approx Ke^{-r(T-t)}\\Phi (-d_{2}) - S_{t}e^{(b_{A}-r)(T-t)}\\Phi(-d_{1}). \\hspace{11.5cm}\n",
    "\\end{align}\n",
    "\n",
    "con $d_{1}$ y $d_{2}$ dados por:\n",
    "\n",
    "\\begin{align}\n",
    "d_{1} &= \\frac{\\ln(S_{t}/K) + (b_{A} + 1/2\\sigma_{a}^{2})(T-t)}{\\sigma \\sqrt{T-t}}, \\hspace{13cm} \\ \\\\ \n",
    "d_{2} &= d_{1} - \\sigma_{a}\\sqrt{T-t}. \n",
    "\\end{align}\n",
    "\n",
    "La función $\\Phi (d)$ es la función de la distribución acumulada de $E\\sim \\mathcal{N}(0,1)$. La volatilidad ajustada es igual a:\n",
    "\n",
    "&nbsp;&nbsp;&nbsp;&nbsp;&nbsp;&nbsp;&nbsp;&nbsp;&nbsp;$\n",
    "\\begin{equation}\n",
    "\\sigma_{a} = \\frac{\\sigma}{\\sqrt{3}},\n",
    "\\end{equation}\n",
    "$\n",
    "\n",
    "mientras que el costo de acarreo ajustado es:\n",
    "\n",
    "&nbsp;&nbsp;&nbsp;&nbsp;&nbsp;&nbsp;&nbsp;&nbsp;&nbsp;$\n",
    "\\begin{equation}\n",
    "b_{A} = \\frac{1}{2}(v-\\frac{\\sigma^{2}}{6})\n",
    "\\end{equation} .\n",
    "$"
   ]
  },
  {
   "cell_type": "markdown",
   "metadata": {},
   "source": [
    "### Ejercicio 3: \n",
    " ESTUDIANTE 1, realizará un programa que imprima la serie de fibonacci para sus primeros 100 términos en un array de python,usando la rama “master” del repositorio creado. \n",
    " \n",
    " Por otro lado, el ESTUDIANTE 2,creando un “branch” llamado ejerPrograma, generará un programa que muestre los números primos del 0-100. Luego de que el ESTUDIANTE 2 haya terminado su programa, debe de realizar un “pull request” al ESTUDIANTE 1, ANTES de hacer un “merge” de la rama ejerPrograma en el proyecto principal (“master”). Luego de realizado estos pasos NO BORRAR LA RAMA CREADA (ejerPrograma)"
   ]
  },
  {
   "cell_type": "markdown",
   "metadata": {},
   "source": [
    "Código de solución estudiante 1: Serie de fibonacci en sus primeros 100 terminos"
   ]
  },
  {
   "cell_type": "code",
   "execution_count": null,
   "metadata": {},
   "outputs": [],
   "source": [
    "# Código de solución estudiante 1"
   ]
  },
  {
   "cell_type": "markdown",
   "metadata": {},
   "source": [
    "Código de solución estudiante 2: Programa que muestre los numeros primos del 0-100"
   ]
  },
  {
   "cell_type": "code",
   "execution_count": null,
   "metadata": {},
   "outputs": [],
   "source": [
    "# Código de solución estudiante 2"
   ]
  },
  {
   "cell_type": "markdown",
   "metadata": {},
   "source": [
    "### Respuesta planteada en el ejercicio usando (markdown)\n",
    " La respuesta es ........."
   ]
  }
 ],
 "metadata": {
  "kernelspec": {
   "display_name": "Python 3 (ipykernel)",
   "language": "python",
   "name": "python3"
  },
  "language_info": {
   "codemirror_mode": {
    "name": "ipython",
    "version": 3
   },
   "file_extension": ".py",
   "mimetype": "text/x-python",
   "name": "python",
   "nbconvert_exporter": "python",
   "pygments_lexer": "ipython3",
   "version": "3.9.12"
  }
 },
 "nbformat": 4,
 "nbformat_minor": 2
}
